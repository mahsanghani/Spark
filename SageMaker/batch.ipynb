{
 "cells": [
  {
   "cell_type": "code",
   "execution_count": 1,
   "id": "a72dba1f-1717-44e2-ba00-5369f6df4664",
   "metadata": {},
   "outputs": [
    {
     "data": {
      "text/html": [
       "<div>\n",
       "<style scoped>\n",
       "    .dataframe tbody tr th:only-of-type {\n",
       "        vertical-align: middle;\n",
       "    }\n",
       "\n",
       "    .dataframe tbody tr th {\n",
       "        vertical-align: top;\n",
       "    }\n",
       "\n",
       "    .dataframe thead th {\n",
       "        text-align: right;\n",
       "    }\n",
       "</style>\n",
       "<table border=\"1\" class=\"dataframe\">\n",
       "  <thead>\n",
       "    <tr style=\"text-align: right;\">\n",
       "      <th></th>\n",
       "      <th>Petrol_tax</th>\n",
       "      <th>Average_income</th>\n",
       "      <th>Paved_Highways</th>\n",
       "      <th>Population_Driver_licence(%)</th>\n",
       "      <th>Petrol_Consumption</th>\n",
       "    </tr>\n",
       "  </thead>\n",
       "  <tbody>\n",
       "    <tr>\n",
       "      <th>0</th>\n",
       "      <td>9.0</td>\n",
       "      <td>3571</td>\n",
       "      <td>1976</td>\n",
       "      <td>0.525</td>\n",
       "      <td>541</td>\n",
       "    </tr>\n",
       "    <tr>\n",
       "      <th>1</th>\n",
       "      <td>9.0</td>\n",
       "      <td>4092</td>\n",
       "      <td>1250</td>\n",
       "      <td>0.572</td>\n",
       "      <td>524</td>\n",
       "    </tr>\n",
       "    <tr>\n",
       "      <th>2</th>\n",
       "      <td>9.0</td>\n",
       "      <td>3865</td>\n",
       "      <td>1586</td>\n",
       "      <td>0.580</td>\n",
       "      <td>561</td>\n",
       "    </tr>\n",
       "    <tr>\n",
       "      <th>3</th>\n",
       "      <td>7.5</td>\n",
       "      <td>4870</td>\n",
       "      <td>2351</td>\n",
       "      <td>0.529</td>\n",
       "      <td>414</td>\n",
       "    </tr>\n",
       "    <tr>\n",
       "      <th>4</th>\n",
       "      <td>8.0</td>\n",
       "      <td>4399</td>\n",
       "      <td>431</td>\n",
       "      <td>0.544</td>\n",
       "      <td>410</td>\n",
       "    </tr>\n",
       "  </tbody>\n",
       "</table>\n",
       "</div>"
      ],
      "text/plain": [
       "   Petrol_tax  Average_income  Paved_Highways  Population_Driver_licence(%)  \\\n",
       "0         9.0            3571            1976                         0.525   \n",
       "1         9.0            4092            1250                         0.572   \n",
       "2         9.0            3865            1586                         0.580   \n",
       "3         7.5            4870            2351                         0.529   \n",
       "4         8.0            4399             431                         0.544   \n",
       "\n",
       "   Petrol_Consumption  \n",
       "0                 541  \n",
       "1                 524  \n",
       "2                 561  \n",
       "3                 414  \n",
       "4                 410  "
      ]
     },
     "execution_count": 1,
     "metadata": {},
     "output_type": "execute_result"
    }
   ],
   "source": [
    "import pandas as pd\n",
    "import numpy as np\n",
    "\n",
    "df = pd.read_csv(\"petrol_consumption.csv\")\n",
    "df.head()"
   ]
  },
  {
   "cell_type": "code",
   "execution_count": 2,
   "id": "6b1d9db5-88d2-41cd-884c-6f9a17cbab77",
   "metadata": {},
   "outputs": [],
   "source": [
    "#Splitting data in 80-20 split to use testing data for model inference later\n",
    "train = df.iloc[:35,:]\n",
    "test = df.iloc[36:,:]\n",
    "\n",
    "#Train and test csv\n",
    "train.to_csv('train.csv', index=False)\n",
    "test.to_csv('test.csv', index=False)"
   ]
  },
  {
   "cell_type": "code",
   "execution_count": 3,
   "id": "8c2a9a4d-8faf-4e9d-9078-aa9e041679d8",
   "metadata": {},
   "outputs": [],
   "source": [
    "#Create a sagemaker session to be able to upload data to s3\n",
    "import boto3\n",
    "import sagemaker\n",
    "sagemaker_session = sagemaker.Session()\n",
    "\n",
    "#Uploading data to S3 bucket titled \"tf-iris-data\"\n",
    "prefix = \"sklearn-petrol-data\"\n",
    "\n",
    "#Create train and test paths, with the test dataset we will use batch inference\n",
    "training_input_path = sagemaker_session.upload_data('train.csv', key_prefix=prefix + '/training')\n",
    "test_data_path = sagemaker_session.upload_data('test.csv', key_prefix=prefix + '/test')"
   ]
  },
  {
   "cell_type": "code",
   "execution_count": 8,
   "id": "7271f363-a24f-4f0d-8641-1db3f48d377d",
   "metadata": {},
   "outputs": [
    {
     "name": "stdout",
     "output_type": "stream",
     "text": [
      "AWS Region: us-east-2\n",
      "RoleArn: arn:aws:iam::126500756700:role/service-role/AmazonSageMakerServiceCatalogProductsUseRole\n"
     ]
    }
   ],
   "source": [
    "import sagemaker\n",
    "\n",
    "region = sagemaker.Session().boto_region_name\n",
    "print(\"AWS Region: {}\".format(region))\n",
    "\n",
    "role = sagemaker.get_execution_role()\n",
    "print(\"RoleArn: {}\".format(role))"
   ]
  },
  {
   "cell_type": "code",
   "execution_count": null,
   "id": "429a96cd-6302-4640-8b8f-d6633d7c885e",
   "metadata": {},
   "outputs": [
    {
     "name": "stdout",
     "output_type": "stream",
     "text": [
      "2022-07-28 04:51:19 Starting - Starting the training job...\n",
      "2022-07-28 04:51:46 Starting - Preparing the instances for trainingProfilerReport-1658983878: InProgress\n",
      ".........\n",
      "2022-07-28 04:53:02 Downloading - Downloading input data."
     ]
    }
   ],
   "source": [
    "#Docs: https://sagemaker.readthedocs.io/en/stable/frameworks/sklearn/sagemaker.sklearn.html\n",
    "from sagemaker.sklearn import SKLearn\n",
    "sk_estimator = SKLearn(entry_point='train.py', \n",
    "                          role=role,\n",
    "                          instance_count=1, \n",
    "                          instance_type='ml.m4.xlarge',\n",
    "                          py_version='py3',\n",
    "                          framework_version='0.23-1',\n",
    "                          script_mode=True,\n",
    "                          hyperparameters={\n",
    "                              'estimators': 20\n",
    "                          }\n",
    "                         )\n",
    "\n",
    "#Training\n",
    "sk_estimator.fit({'train': training_input_path})"
   ]
  },
  {
   "cell_type": "code",
   "execution_count": null,
   "id": "da165fcb-9cb5-41bd-818e-bbbee74afb8b",
   "metadata": {},
   "outputs": [],
   "source": [
    "\"\"\"\n",
    "input_fn\n",
    "    request_body: The body of the request sent to the model.\n",
    "    request_content_type: (string) specifies the format/variable type of the request\n",
    "\"\"\"\n",
    "def input_fn(input_data, content_type):\n",
    "    if content_type == \"text/csv\":\n",
    "        # Read the raw input data as CSV.\n",
    "        df = pd.read_csv(StringIO(input_data))\n",
    "        df = df[['Petrol_tax', 'Average_income', 'Paved_Highways', 'Population_Driver_licence(%)']]\n",
    "        return df\n",
    "    else:\n",
    "        raise ValueError(\"{} not supported by script!\".format(content_type))"
   ]
  },
  {
   "cell_type": "code",
   "execution_count": null,
   "id": "5f557a34-e3aa-44d4-8949-62d7938bf881",
   "metadata": {},
   "outputs": [],
   "source": [
    "# Define a SKLearn Transformer from the trained SKLearn Estimator\n",
    "transformer = sk_estimator.transformer(\n",
    "    instance_count=1, instance_type=\"ml.m5.xlarge\", assemble_with=\"Line\", accept=\"text/csv\"\n",
    ")"
   ]
  },
  {
   "cell_type": "code",
   "execution_count": null,
   "id": "e7afbdb0-3823-4bc1-a6a1-821279c56739",
   "metadata": {},
   "outputs": [],
   "source": [
    "# Feed the test data\n",
    "transformer.transform(test_data_path, content_type=\"text/csv\")\n",
    "print(\"Waiting for transform job: \" + transformer.latest_transform_job.job_name)\n",
    "transformer.wait()\n",
    "output = transformer.output_path"
   ]
  },
  {
   "cell_type": "code",
   "execution_count": null,
   "id": "888ef5f2-171c-4ecf-be56-9141ae7b5a2d",
   "metadata": {},
   "outputs": [],
   "source": [
    "import boto3\n",
    "client = boto3.client('sagemaker')\n",
    "\n",
    "output_path = client.describe_transform_job(TransformJobName = \"Enter your transform job name from console\")['TransformOutput']['S3OutputPath']\n",
    "output_path\n",
    "\n",
    "#emits a file called output.csv to your local directory\n",
    "!aws s3 cp 'Replace with your S3 output path' output.csv\n",
    "results = pd.read_csv('output.csv')\n",
    "results"
   ]
  },
  {
   "cell_type": "code",
   "execution_count": null,
   "id": "f7b25d1c-4fac-435f-b6a0-03010dee109f",
   "metadata": {},
   "outputs": [],
   "source": []
  }
 ],
 "metadata": {
  "kernelspec": {
   "display_name": "conda_python3",
   "language": "python",
   "name": "conda_python3"
  },
  "language_info": {
   "codemirror_mode": {
    "name": "ipython",
    "version": 3
   },
   "file_extension": ".py",
   "mimetype": "text/x-python",
   "name": "python",
   "nbconvert_exporter": "python",
   "pygments_lexer": "ipython3",
   "version": "3.8.12"
  }
 },
 "nbformat": 4,
 "nbformat_minor": 5
}
