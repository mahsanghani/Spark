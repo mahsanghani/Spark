{
 "cells": [
  {
   "cell_type": "code",
   "execution_count": null,
   "metadata": {
    "collapsed": true,
    "pycharm": {
     "name": "#%%\n"
    }
   },
   "outputs": [],
   "source": [
    "imagePath = pkg_resources.resource_filename(‘sparkocr’, ‘resources/ocr/text_detection/020_Yas_patella.jpg’)\n",
    "binary_data_df = spark.read.format(“binaryFile”).load(imagePath)"
   ]
  },
  {
   "cell_type": "code",
   "execution_count": null,
   "outputs": [],
   "source": [
    "binary_to_image = BinaryToImage()\n",
    "binary_to_image.setImageType(ImageType.TYPE_3BYTE_BGR)\n",
    "image_df = binary_to_image.transform(binary_data_df)\n",
    "display_images(image_df, “image”)"
   ],
   "metadata": {
    "collapsed": false,
    "pycharm": {
     "name": "#%%\n"
    }
   }
  },
  {
   "cell_type": "code",
   "execution_count": null,
   "outputs": [],
   "source": [
    "text_detector = ImageTextDetector.pretrained(“text_detection_v1”, “en”, “clinical/ocr”)\n",
    "text_detector.setInputCol(“image”)\n",
    "text_detector.setOutputCol(“text_regions”)\n",
    "text_detector.setSizeThreshold(10)\n",
    "text_detector.setScoreThreshold(0.9)\n",
    "text_detector.setLinkThreshold(0.4)\n",
    "text_detector.setTextThreshold(0.2)\n",
    "text_detector.setWidth(1512)\n",
    "text_detector.setHeight(2016)\n"
   ],
   "metadata": {
    "collapsed": false,
    "pycharm": {
     "name": "#%%\n"
    }
   }
  },
  {
   "cell_type": "code",
   "execution_count": null,
   "outputs": [],
   "source": [
    "splitter = ImageSplitRegions() \\\n",
    " .setInputCol(“image”) \\\n",
    " .setInputRegionsCol(“text_regions”) \\\n",
    " .setOutputCol(“text_image”) \\\n",
    " .setDropCols([“image”]) \\\n",
    " .setExplodeCols([“text_regions”]) \\\n",
    " .setRotated(True) \\\n",
    " .setImageType(ImageType.TYPE_BYTE_GRAY)\n",
    "ocr = ImageToText() \\\n",
    " .setInputCol(“text_image”) \\\n",
    " .setOutputCol(“text”) \\\n",
    " .setPageSegMode(PageSegmentationMode.SINGLE_WORD) \\\n",
    " .setIgnoreResolution(False)"
   ],
   "metadata": {
    "collapsed": false,
    "pycharm": {
     "name": "#%%\n"
    }
   }
  },
  {
   "cell_type": "code",
   "execution_count": null,
   "outputs": [],
   "source": [
    "documentAssembler = DocumentAssembler() \\\n",
    " .setInputCol(“text”) \\\n",
    " .setOutputCol(“document”)\n",
    "tokenizer = Tokenizer() \\\n",
    " .setInputCols([“document”]) \\\n",
    " .setOutputCol(“token”)\n",
    "entityRuler = EntityRulerApproach() \\\n",
    " .setInputCols([“document”, “token”]) \\\n",
    " .setOutputCol(“entities”) \\\n",
    " .setPatternsResource(\n",
    " “patterns.json”,\n",
    " ReadAs.TEXT,\n",
    " {“format”: “jsonl”}\n",
    " ) \\\n",
    " .setEnablePatternRegex(True)\n",
    "pipeline_nlp = Pipeline().setStages([\n",
    "    splitter,\n",
    "    ocr,\n",
    "    documentAssembler,\n",
    "    tokenizer,\n",
    "    entityRuler\n",
    "])\n",
    "text_result = pipeline_nlp.fit(result).transform(result)\n",
    "text_result.selectExpr(\"explode(entities)\").show(truncate=False)"
   ],
   "metadata": {
    "collapsed": false,
    "pycharm": {
     "name": "#%%\n"
    }
   }
  }
 ],
 "metadata": {
  "kernelspec": {
   "display_name": "Python 3",
   "language": "python",
   "name": "python3"
  },
  "language_info": {
   "codemirror_mode": {
    "name": "ipython",
    "version": 2
   },
   "file_extension": ".py",
   "mimetype": "text/x-python",
   "name": "python",
   "nbconvert_exporter": "python",
   "pygments_lexer": "ipython2",
   "version": "2.7.6"
  }
 },
 "nbformat": 4,
 "nbformat_minor": 0
}