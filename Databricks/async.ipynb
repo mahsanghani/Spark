{
 "cells": [
  {
   "cell_type": "code",
   "execution_count": null,
   "metadata": {
    "collapsed": true,
    "pycharm": {
     "name": "#%%\n"
    }
   },
   "outputs": [],
   "source": [
    "import mlflow\n",
    "import sparknlp\n",
    "from sparknlp.base import *\n",
    "from sparknlp.annotator import *\n",
    "from pyspark.ml import Pipeline\n",
    "import pandas as pd\n",
    "from sparknlp.training import CoNLL\n",
    "import pyspark\n",
    "from pyspark.sql import SparkSession\n",
    "import pyspark.sql.types as T\n",
    "import pyspark.sql.functions as f\n",
    "import json"
   ]
  },
  {
   "cell_type": "code",
   "execution_count": null,
   "outputs": [],
   "source": [
    "input = \"\"\n",
    "try:\n",
    "  input = dbutils.widgets.get(\"text\")\n",
    "  print('\"text\" input found: ' + input)\n",
    "except:\n",
    "  print('Unable to run: dbutils.widgets.get(\"text\"). Setting it to NOT_SET')\n",
    "  input = \"NOT_SET\""
   ],
   "metadata": {
    "collapsed": false,
    "pycharm": {
     "name": "#%%\n"
    }
   }
  },
  {
   "cell_type": "code",
   "execution_count": null,
   "outputs": [],
   "source": [
    "df = spark.createDataFrame([[input]]).toDF('text')"
   ],
   "metadata": {
    "collapsed": false,
    "pycharm": {
     "name": "#%%\n"
    }
   }
  },
  {
   "cell_type": "code",
   "execution_count": null,
   "outputs": [],
   "source": [
    "import mlflow\n",
    "import pyspark.sql.types as T\n",
    "import pyspark.sql.functions as f\n",
    "logged_model = 'runs:/a8cf070528564792bbf66d82211db0a0/lemmatizer'\n",
    "loaded_model = mlflow.pyfunc.load_model(model_uri=logged_model)\n",
    "# Predict on a Spark DataFrame.\n",
    "res_spark = loaded_model.predict(df_1_spark.rdd)\n",
    "annotationType = T.StructType([\n",
    "            T.StructField('annotatorType', T.StringType(), False),\n",
    "            T.StructField('begin', T.IntegerType(), False),\n",
    "            T.StructField('end', T.IntegerType(), False),\n",
    "            T.StructField('result', T.StringType(), False),\n",
    "            T.StructField('metadata', T.MapType(T.StringType(), T.StringType()), False),\n",
    "            T.StructField('embeddings', T.ArrayType(T.FloatType()), False)\n",
    "        ])\n",
    "\n",
    "spark_res = spark.createDataFrame(res_spark[0], schema=annotationType)"
   ],
   "metadata": {
    "collapsed": false,
    "pycharm": {
     "name": "#%%\n"
    }
   }
  },
  {
   "cell_type": "code",
   "execution_count": null,
   "outputs": [],
   "source": [
    "lemmas = spark_res.select(\"result\").collect()\n",
    "txt_results = [x['result'] for x in lemmas]"
   ],
   "metadata": {
    "collapsed": false,
    "pycharm": {
     "name": "#%%\n"
    }
   }
  },
  {
   "cell_type": "code",
   "execution_count": null,
   "outputs": [],
   "source": [
    "dbutils.notebook.exit(json.dumps({\n",
    "  \"status\": \"OK\",\n",
    "  \"results\": txt_results\n",
    "}))"
   ],
   "metadata": {
    "collapsed": false,
    "pycharm": {
     "name": "#%%\n"
    }
   }
  },
  {
   "cell_type": "markdown",
   "source": [
    "# POSTMAN\n",
    "\n",
    "POST HTTP request\n",
    "URL: https://[your_databricks_instance]/api/2.1/jobs/run-now\n",
    "Authorization: [use Bearer Token. You can get it from Databricks, Settings, User Settings, Generate New Token.]\n",
    "Body:\n",
    "{\n",
    "    \"job_id\": [job_id, check it in the Jobs screen],\n",
    "    \"notebook_params\": {\"text\": \"This is an example of how well the lemmatizer works\"}\n",
    "}"
   ],
   "metadata": {
    "collapsed": false,
    "pycharm": {
     "name": "#%% md\n"
    }
   }
  },
  {
   "cell_type": "markdown",
   "source": [
    "{\"notebook_output\": {\n",
    "  \"status\": \"OK\",\n",
    "  \"results\": [\"This\", \"is\", \"a\", \"example\", \"of\", \"how\", \"lemmatizer\", \"work\"]\n",
    "}}"
   ],
   "metadata": {
    "collapsed": false,
    "pycharm": {
     "name": "#%% md\n"
    }
   }
  },
  {
   "cell_type": "code",
   "execution_count": 2,
   "outputs": [],
   "source": [],
   "metadata": {
    "collapsed": false,
    "pycharm": {
     "name": "#%%\n"
    }
   }
  },
  {
   "cell_type": "code",
   "execution_count": null,
   "outputs": [],
   "source": [],
   "metadata": {
    "collapsed": false,
    "pycharm": {
     "name": "#%%\n"
    }
   }
  }
 ],
 "metadata": {
  "kernelspec": {
   "display_name": "Python 3",
   "language": "python",
   "name": "python3"
  },
  "language_info": {
   "codemirror_mode": {
    "name": "ipython",
    "version": 2
   },
   "file_extension": ".py",
   "mimetype": "text/x-python",
   "name": "python",
   "nbconvert_exporter": "python",
   "pygments_lexer": "ipython2",
   "version": "2.7.6"
  }
 },
 "nbformat": 4,
 "nbformat_minor": 0
}